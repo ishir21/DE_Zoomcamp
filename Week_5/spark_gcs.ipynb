{
 "cells": [
  {
   "cell_type": "code",
   "execution_count": 1,
   "id": "001bb821",
   "metadata": {},
   "outputs": [
    {
     "name": "stdout",
     "output_type": "stream",
     "text": [
      "Requirement already satisfied: findspark in /opt/homebrew/Cellar/jupyterlab/4.0.2/libexec/lib/python3.11/site-packages (2.0.1)\n",
      "\n",
      "\u001b[1m[\u001b[0m\u001b[34;49mnotice\u001b[0m\u001b[1;39;49m]\u001b[0m\u001b[39;49m A new release of pip is available: \u001b[0m\u001b[31;49m23.0.1\u001b[0m\u001b[39;49m -> \u001b[0m\u001b[32;49m23.1.2\u001b[0m\n",
      "\u001b[1m[\u001b[0m\u001b[34;49mnotice\u001b[0m\u001b[1;39;49m]\u001b[0m\u001b[39;49m To update, run: \u001b[0m\u001b[32;49mpython3.11 -m pip install --upgrade pip\u001b[0m\n",
      "Note: you may need to restart the kernel to use updated packages.\n"
     ]
    }
   ],
   "source": [
    "pip install findspark"
   ]
  },
  {
   "cell_type": "code",
   "execution_count": 2,
   "id": "8f48df75",
   "metadata": {},
   "outputs": [],
   "source": [
    "import findspark\n",
    "findspark.init()"
   ]
  },
  {
   "cell_type": "code",
   "execution_count": 3,
   "id": "f67154e9",
   "metadata": {},
   "outputs": [],
   "source": [
    "import pyspark\n",
    "from pyspark.sql import SparkSession\n",
    "from pyspark.conf import SparkConf\n",
    "from pyspark.context import SparkContext\n"
   ]
  },
  {
   "cell_type": "code",
   "execution_count": 13,
   "id": "55b80106",
   "metadata": {},
   "outputs": [],
   "source": [
    "credentials_location = '/Users/ishir /Downloads/zoomcamp-384014-dc7ccaef5de5.json'\n",
    "conf = SparkConf() \\\n",
    "    .setMaster('local[*]') \\\n",
    "    .setAppName('test') \\\n",
    "    .set(\"spark.jars\", \"/opt/homebrew/Cellar/apache-spark/3.4.0/jars/gcs-connector-hadoop3-latest.jar\") \\\n",
    "    .set(\"spark.hadoop.google.cloud.auth.service.account.enable\", \"true\") \\\n",
    "    .set(\"spark.hadoop.google.cloud.auth.service.account.json.keyfile\",credentials_location)\n",
    "\n"
   ]
  },
  {
   "cell_type": "code",
   "execution_count": 14,
   "id": "f6a4d332",
   "metadata": {},
   "outputs": [
    {
     "ename": "ValueError",
     "evalue": "Cannot run multiple SparkContexts at once; existing SparkContext(app=test, master=local[*]) created by __init__ at /var/folders/cq/kmpn4h_d0xn36k4s25z1kkf00000gn/T/ipykernel_70649/2114057281.py:1 ",
     "output_type": "error",
     "traceback": [
      "\u001b[0;31m---------------------------------------------------------------------------\u001b[0m",
      "\u001b[0;31mValueError\u001b[0m                                Traceback (most recent call last)",
      "Cell \u001b[0;32mIn[14], line 1\u001b[0m\n\u001b[0;32m----> 1\u001b[0m sc \u001b[38;5;241m=\u001b[39m \u001b[43mSparkContext\u001b[49m\u001b[43m(\u001b[49m\u001b[43mconf\u001b[49m\u001b[38;5;241;43m=\u001b[39;49m\u001b[43mconf\u001b[49m\u001b[43m)\u001b[49m\n\u001b[1;32m      3\u001b[0m sc\u001b[38;5;241m.\u001b[39m_jsc\u001b[38;5;241m.\u001b[39mhadoopConfiguration()\u001b[38;5;241m.\u001b[39mset(\u001b[38;5;124m\"\u001b[39m\u001b[38;5;124mfs.AbstractFileSystem.gs.impl\u001b[39m\u001b[38;5;124m\"\u001b[39m,  \u001b[38;5;124m\"\u001b[39m\u001b[38;5;124mcom.google.cloud.hadoop.fs.gcs.GoogleHadoopFS\u001b[39m\u001b[38;5;124m\"\u001b[39m)\n\u001b[1;32m      4\u001b[0m sc\u001b[38;5;241m.\u001b[39m_jsc\u001b[38;5;241m.\u001b[39mhadoopConfiguration()\u001b[38;5;241m.\u001b[39mset(\u001b[38;5;124m\"\u001b[39m\u001b[38;5;124mfs.gs.impl\u001b[39m\u001b[38;5;124m\"\u001b[39m, \u001b[38;5;124m\"\u001b[39m\u001b[38;5;124mcom.google.cloud.hadoop.fs.gcs.GoogleHadoopFileSystem\u001b[39m\u001b[38;5;124m\"\u001b[39m)\n",
      "File \u001b[0;32m/opt/homebrew/Cellar/apache-spark/3.4.0/libexec/python/pyspark/context.py:198\u001b[0m, in \u001b[0;36mSparkContext.__init__\u001b[0;34m(self, master, appName, sparkHome, pyFiles, environment, batchSize, serializer, conf, gateway, jsc, profiler_cls, udf_profiler_cls, memory_profiler_cls)\u001b[0m\n\u001b[1;32m    192\u001b[0m \u001b[38;5;28;01mif\u001b[39;00m gateway \u001b[38;5;129;01mis\u001b[39;00m \u001b[38;5;129;01mnot\u001b[39;00m \u001b[38;5;28;01mNone\u001b[39;00m \u001b[38;5;129;01mand\u001b[39;00m gateway\u001b[38;5;241m.\u001b[39mgateway_parameters\u001b[38;5;241m.\u001b[39mauth_token \u001b[38;5;129;01mis\u001b[39;00m \u001b[38;5;28;01mNone\u001b[39;00m:\n\u001b[1;32m    193\u001b[0m     \u001b[38;5;28;01mraise\u001b[39;00m \u001b[38;5;167;01mValueError\u001b[39;00m(\n\u001b[1;32m    194\u001b[0m         \u001b[38;5;124m\"\u001b[39m\u001b[38;5;124mYou are trying to pass an insecure Py4j gateway to Spark. This\u001b[39m\u001b[38;5;124m\"\u001b[39m\n\u001b[1;32m    195\u001b[0m         \u001b[38;5;124m\"\u001b[39m\u001b[38;5;124m is not allowed as it is a security risk.\u001b[39m\u001b[38;5;124m\"\u001b[39m\n\u001b[1;32m    196\u001b[0m     )\n\u001b[0;32m--> 198\u001b[0m \u001b[43mSparkContext\u001b[49m\u001b[38;5;241;43m.\u001b[39;49m\u001b[43m_ensure_initialized\u001b[49m\u001b[43m(\u001b[49m\u001b[38;5;28;43mself\u001b[39;49m\u001b[43m,\u001b[49m\u001b[43m \u001b[49m\u001b[43mgateway\u001b[49m\u001b[38;5;241;43m=\u001b[39;49m\u001b[43mgateway\u001b[49m\u001b[43m,\u001b[49m\u001b[43m \u001b[49m\u001b[43mconf\u001b[49m\u001b[38;5;241;43m=\u001b[39;49m\u001b[43mconf\u001b[49m\u001b[43m)\u001b[49m\n\u001b[1;32m    199\u001b[0m \u001b[38;5;28;01mtry\u001b[39;00m:\n\u001b[1;32m    200\u001b[0m     \u001b[38;5;28mself\u001b[39m\u001b[38;5;241m.\u001b[39m_do_init(\n\u001b[1;32m    201\u001b[0m         master,\n\u001b[1;32m    202\u001b[0m         appName,\n\u001b[0;32m   (...)\u001b[0m\n\u001b[1;32m    212\u001b[0m         memory_profiler_cls,\n\u001b[1;32m    213\u001b[0m     )\n",
      "File \u001b[0;32m/opt/homebrew/Cellar/apache-spark/3.4.0/libexec/python/pyspark/context.py:445\u001b[0m, in \u001b[0;36mSparkContext._ensure_initialized\u001b[0;34m(cls, instance, gateway, conf)\u001b[0m\n\u001b[1;32m    442\u001b[0m     callsite \u001b[38;5;241m=\u001b[39m SparkContext\u001b[38;5;241m.\u001b[39m_active_spark_context\u001b[38;5;241m.\u001b[39m_callsite\n\u001b[1;32m    444\u001b[0m     \u001b[38;5;66;03m# Raise error if there is already a running Spark context\u001b[39;00m\n\u001b[0;32m--> 445\u001b[0m     \u001b[38;5;28;01mraise\u001b[39;00m \u001b[38;5;167;01mValueError\u001b[39;00m(\n\u001b[1;32m    446\u001b[0m         \u001b[38;5;124m\"\u001b[39m\u001b[38;5;124mCannot run multiple SparkContexts at once; \u001b[39m\u001b[38;5;124m\"\u001b[39m\n\u001b[1;32m    447\u001b[0m         \u001b[38;5;124m\"\u001b[39m\u001b[38;5;124mexisting SparkContext(app=\u001b[39m\u001b[38;5;132;01m%s\u001b[39;00m\u001b[38;5;124m, master=\u001b[39m\u001b[38;5;132;01m%s\u001b[39;00m\u001b[38;5;124m)\u001b[39m\u001b[38;5;124m\"\u001b[39m\n\u001b[1;32m    448\u001b[0m         \u001b[38;5;124m\"\u001b[39m\u001b[38;5;124m created by \u001b[39m\u001b[38;5;132;01m%s\u001b[39;00m\u001b[38;5;124m at \u001b[39m\u001b[38;5;132;01m%s\u001b[39;00m\u001b[38;5;124m:\u001b[39m\u001b[38;5;132;01m%s\u001b[39;00m\u001b[38;5;124m \u001b[39m\u001b[38;5;124m\"\u001b[39m\n\u001b[1;32m    449\u001b[0m         \u001b[38;5;241m%\u001b[39m (\n\u001b[1;32m    450\u001b[0m             currentAppName,\n\u001b[1;32m    451\u001b[0m             currentMaster,\n\u001b[1;32m    452\u001b[0m             callsite\u001b[38;5;241m.\u001b[39mfunction,\n\u001b[1;32m    453\u001b[0m             callsite\u001b[38;5;241m.\u001b[39mfile,\n\u001b[1;32m    454\u001b[0m             callsite\u001b[38;5;241m.\u001b[39mlinenum,\n\u001b[1;32m    455\u001b[0m         )\n\u001b[1;32m    456\u001b[0m     )\n\u001b[1;32m    457\u001b[0m \u001b[38;5;28;01melse\u001b[39;00m:\n\u001b[1;32m    458\u001b[0m     SparkContext\u001b[38;5;241m.\u001b[39m_active_spark_context \u001b[38;5;241m=\u001b[39m instance\n",
      "\u001b[0;31mValueError\u001b[0m: Cannot run multiple SparkContexts at once; existing SparkContext(app=test, master=local[*]) created by __init__ at /var/folders/cq/kmpn4h_d0xn36k4s25z1kkf00000gn/T/ipykernel_70649/2114057281.py:1 "
     ]
    }
   ],
   "source": [
    "sc = SparkContext(conf=conf)\n",
    "\n",
    "sc._jsc.hadoopConfiguration().set(\"fs.AbstractFileSystem.gs.impl\",  \"com.google.cloud.hadoop.fs.gcs.GoogleHadoopFS\")\n",
    "sc._jsc.hadoopConfiguration().set(\"fs.gs.impl\", \"com.google.cloud.hadoop.fs.gcs.GoogleHadoopFileSystem\")\n",
    "sc._jsc.hadoopConfiguration().set(\"fs.gs.auth.service.account.json.keyfile\",credentials_location)\n",
    "sc._jsc.hadoopConfiguration().set(\"fs.gs.auth.service.account.enable\", \"true\")\n"
   ]
  },
  {
   "cell_type": "code",
   "execution_count": 15,
   "id": "97e4eb4f",
   "metadata": {},
   "outputs": [],
   "source": [
    "spark = SparkSession.builder \\\n",
    "    .config(conf=sc.getConf()) \\\n",
    "    .getOrCreate()\n"
   ]
  },
  {
   "cell_type": "code",
   "execution_count": 19,
   "id": "dca0bfdf",
   "metadata": {},
   "outputs": [
    {
     "name": "stderr",
     "output_type": "stream",
     "text": [
      "                                                                                \r"
     ]
    }
   ],
   "source": [
    "df_green = spark.read.parquet(\"gs://zoomcamp_bucket_us/pq/green/*/*\")"
   ]
  },
  {
   "cell_type": "code",
   "execution_count": 10,
   "id": "ec37ce9e",
   "metadata": {},
   "outputs": [
    {
     "name": "stderr",
     "output_type": "stream",
     "text": [
      "\r",
      "[Stage 2:>                                                          (0 + 1) / 1]\r"
     ]
    },
    {
     "name": "stdout",
     "output_type": "stream",
     "text": [
      "+--------+--------------------+---------------------+------------------+----------+------------+------------+---------------+-------------+-----------+-----+-------+----------+------------+---------+---------------------+------------+------------+---------+--------------------+\n",
      "|VendorID|lpep_pickup_datetime|lpep_dropoff_datetime|store_and_fwd_flag|RatecodeID|PULocationID|DOLocationID|passenger_count|trip_distance|fare_amount|extra|mta_tax|tip_amount|tolls_amount|ehail_fee|improvement_surcharge|total_amount|payment_type|trip_type|congestion_surcharge|\n",
      "+--------+--------------------+---------------------+------------------+----------+------------+------------+---------------+-------------+-----------+-----+-------+----------+------------+---------+---------------------+------------+------------+---------+--------------------+\n",
      "|       2| 2020-01-27 23:23:13|  2020-01-27 23:33:22|                 N|         1|         260|         223|              1|         2.98|       11.5|  0.5|    0.5|       3.2|         0.0|     null|                  0.3|        16.0|           1|        1|                 0.0|\n",
      "|    null| 2020-01-30 20:30:00|  2020-01-30 20:51:00|              null|      null|         238|          47|           null|         7.65|      25.46| 2.75|    0.0|       0.0|         0.0|     null|                  0.3|       28.51|        null|     null|                null|\n",
      "|    null| 2020-01-22 18:13:00|  2020-01-22 18:32:00|              null|      null|          82|          95|           null|         1.83|      19.06| 2.75|    0.0|       0.0|         0.0|     null|                  0.3|       22.11|        null|     null|                null|\n",
      "|       2| 2020-01-04 18:12:24|  2020-01-04 18:21:13|                 N|         1|          42|         244|              1|         1.65|        8.0|  0.0|    0.5|       0.0|         0.0|     null|                  0.3|         8.8|           2|        1|                 0.0|\n",
      "|       2| 2020-01-27 11:53:00|  2020-01-27 12:19:32|                 N|         5|          82|         197|              1|         6.38|      18.22|  0.0|    0.5|       0.0|         0.0|     null|                  0.3|       19.02|           2|        2|                 0.0|\n",
      "|       2| 2020-01-29 15:35:00|  2020-01-29 16:32:00|                 N|         1|           7|         174|              1|         10.4|       40.5|  0.0|    0.5|       0.0|        6.12|     null|                  0.3|       47.42|           2|        1|                 0.0|\n",
      "|    null| 2020-01-02 11:32:00|  2020-01-02 11:47:00|              null|      null|          66|         217|           null|         2.95|       12.0|  0.0|    0.0|       0.0|         0.0|     null|                  0.3|        12.3|        null|     null|                null|\n",
      "|       1| 2020-01-04 09:40:17|  2020-01-04 09:44:12|                 N|         1|          42|          41|              1|          1.0|        5.5|  1.0|    0.5|       0.0|         0.0|     null|                  0.3|         7.3|           1|        1|                 0.0|\n",
      "|       1| 2020-01-18 21:41:43|  2020-01-18 21:44:29|                 N|         1|         129|         129|              1|          0.4|        4.0|  0.5|    0.5|       0.0|         0.0|     null|                  0.3|         5.3|           2|        1|                 0.0|\n",
      "|       2| 2020-01-11 18:43:11|  2020-01-11 18:52:58|                 N|         1|          41|          41|              1|         0.91|        7.5|  0.0|    0.5|       0.0|         0.0|     null|                  0.3|         8.3|           2|        1|                 0.0|\n",
      "|    null| 2020-01-10 12:49:00|  2020-01-10 13:03:00|              null|      null|          35|          71|           null|         2.02|      12.71|  0.0|    0.0|       0.0|         0.0|     null|                  0.3|       13.01|        null|     null|                null|\n",
      "|       1| 2020-01-16 15:17:03|  2020-01-16 15:36:06|                 N|         1|          52|         148|              1|          3.6|       16.5| 2.75|    0.5|      2.81|         0.0|     null|                  0.3|       22.86|           1|        1|                2.75|\n",
      "|       2| 2020-01-18 20:01:34|  2020-01-18 20:08:04|                 N|         1|           7|           7|              1|         0.66|        6.0|  0.5|    0.5|      2.19|         0.0|     null|                  0.3|        9.49|           1|        1|                 0.0|\n",
      "|       2| 2020-01-22 12:54:22|  2020-01-22 13:03:51|                 N|         1|         244|         119|              1|          1.8|        9.0|  0.0|    0.5|       0.0|         0.0|     null|                  0.3|         9.8|           2|        1|                 0.0|\n",
      "|       2| 2020-01-22 05:25:16|  2020-01-22 05:36:06|                 N|         1|          75|         161|              1|          2.7|       11.0|  0.5|    0.5|      3.01|         0.0|     null|                  0.3|       18.06|           1|        1|                2.75|\n",
      "|       2| 2020-01-22 15:55:04|  2020-01-22 16:14:15|                 N|         1|         177|          37|              1|         2.58|       13.5|  0.0|    0.5|       0.0|         0.0|     null|                  0.3|        14.3|           1|        1|                 0.0|\n",
      "|       2| 2020-01-04 18:02:05|  2020-01-04 18:31:34|                 N|         1|          55|          26|              1|         4.99|       22.0|  0.0|    0.5|       0.0|         0.0|     null|                  0.3|        22.8|           1|        1|                 0.0|\n",
      "|       2| 2020-01-29 18:33:51|  2020-01-29 18:50:47|                 N|         1|         134|         260|              5|         4.49|       17.0|  1.0|    0.5|      3.76|         0.0|     null|                  0.3|       22.56|           1|        1|                 0.0|\n",
      "|       2| 2020-01-17 14:30:19|  2020-01-17 14:44:04|                 N|         1|           7|         226|              2|         2.03|       11.0|  0.0|    0.5|       0.0|         0.0|     null|                  0.3|        11.8|           2|        1|                 0.0|\n",
      "|    null| 2020-01-23 11:49:00|  2020-01-23 12:27:00|              null|      null|          75|         170|           null|          3.7|      22.69| 2.75|    0.0|       0.0|         0.0|     null|                  0.3|       25.74|        null|     null|                null|\n",
      "+--------+--------------------+---------------------+------------------+----------+------------+------------+---------------+-------------+-----------+-----+-------+----------+------------+---------+---------------------+------------+------------+---------+--------------------+\n",
      "only showing top 20 rows\n",
      "\n"
     ]
    },
    {
     "name": "stderr",
     "output_type": "stream",
     "text": [
      "\r",
      "                                                                                \r"
     ]
    }
   ],
   "source": [
    "df_green.show()"
   ]
  },
  {
   "cell_type": "code",
   "execution_count": 11,
   "id": "eb7aea1e",
   "metadata": {},
   "outputs": [
    {
     "name": "stderr",
     "output_type": "stream",
     "text": [
      "                                                                                \r"
     ]
    }
   ],
   "source": [
    "df_yellow = spark.read.parquet(\"gs://zoomcamp_bucket_us/pq/yellow/*/*\")"
   ]
  },
  {
   "cell_type": "code",
   "execution_count": 12,
   "id": "071c77f4",
   "metadata": {},
   "outputs": [
    {
     "name": "stderr",
     "output_type": "stream",
     "text": [
      "\r",
      "[Stage 4:>                                                          (0 + 1) / 1]\r"
     ]
    },
    {
     "name": "stdout",
     "output_type": "stream",
     "text": [
      "+--------+--------------------+---------------------+---------------+-------------+----------+------------------+------------+------------+------------+-----------+-----+-------+----------+------------+---------------------+------------+--------------------+\n",
      "|VendorID|tpep_pickup_datetime|tpep_dropoff_datetime|passenger_count|trip_distance|RatecodeID|store_and_fwd_flag|PULocationID|DOLocationID|payment_type|fare_amount|extra|mta_tax|tip_amount|tolls_amount|improvement_surcharge|total_amount|congestion_surcharge|\n",
      "+--------+--------------------+---------------------+---------------+-------------+----------+------------------+------------+------------+------------+-----------+-----+-------+----------+------------+---------------------+------------+--------------------+\n",
      "|       2| 2020-01-27 15:30:25|  2020-01-27 15:41:36|              2|         1.43|         1|                 N|         107|         186|           1|        8.5|  0.0|    0.5|      2.36|         0.0|                  0.3|       14.16|                 2.5|\n",
      "|       1| 2020-01-09 10:55:56|  2020-01-09 11:11:24|              1|          1.8|         1|                 N|         170|         237|           1|       10.5|  2.5|    0.5|      2.75|         0.0|                  0.3|       16.55|                 2.5|\n",
      "|       1| 2020-01-18 11:16:32|  2020-01-18 11:33:13|              1|          3.6|         1|                 N|         161|         231|           1|       14.0|  2.5|    0.5|      3.45|         0.0|                  0.3|       20.75|                 2.5|\n",
      "|       2| 2020-01-22 13:08:29|  2020-01-22 13:10:56|              1|         0.41|         1|                 N|         125|         249|           2|        4.0|  0.0|    0.5|       0.0|         0.0|                  0.3|         7.3|                 2.5|\n",
      "|       2| 2020-01-09 22:56:43|  2020-01-09 23:02:48|              1|         1.23|         1|                 N|         246|          68|           1|        6.5|  0.5|    0.5|       1.0|         0.0|                  0.3|        11.3|                 2.5|\n",
      "|       2| 2020-01-05 21:02:18|  2020-01-05 21:17:53|              2|         3.87|         1|                 N|         230|         261|           1|       14.0|  0.5|    0.5|      3.56|         0.0|                  0.3|       21.36|                 2.5|\n",
      "|       2| 2020-01-15 18:34:39|  2020-01-15 19:24:16|              3|        20.85|         2|                 N|         132|         239|           1|       52.0|  4.5|    0.5|       8.0|        6.12|                  0.3|       73.92|                 2.5|\n",
      "|       2| 2020-01-04 19:15:26|  2020-01-04 19:18:27|              2|         0.45|         1|                 N|         238|         238|           1|        4.0|  0.0|    0.5|      1.46|         0.0|                  0.3|        8.76|                 2.5|\n",
      "|       2| 2020-01-01 01:16:41|  2020-01-01 01:27:02|              2|         2.38|         1|                 N|         229|         263|           1|       10.0|  0.5|    0.5|      2.07|         0.0|                  0.3|       15.87|                 2.5|\n",
      "|    null| 2020-01-19 17:18:00|  2020-01-19 17:34:00|           null|         3.31|      null|              null|          75|         142|        null|      21.95| 2.75|    0.5|       0.0|         0.0|                  0.3|        25.5|                 0.0|\n",
      "|       1| 2020-01-10 03:09:12|  2020-01-10 03:15:28|              1|          1.5|         1|                 N|         148|          87|           1|        7.0|  3.0|    0.5|       2.7|         0.0|                  0.3|        13.5|                 2.5|\n",
      "|       2| 2020-01-29 14:49:48|  2020-01-29 15:01:17|              1|         1.71|         1|                 N|         142|         238|           1|        9.0|  0.0|    0.5|      1.84|         0.0|                  0.3|       14.14|                 2.5|\n",
      "|       2| 2020-01-08 17:26:00|  2020-01-08 17:33:58|              5|         1.45|         1|                 N|         141|         236|           1|        7.5|  1.0|    0.5|      2.36|         0.0|                  0.3|       14.16|                 2.5|\n",
      "|       2| 2020-01-20 15:51:18|  2020-01-20 16:00:13|              1|         1.66|         1|                 N|         142|         238|           1|        8.0|  0.0|    0.5|      2.26|         0.0|                  0.3|       13.56|                 2.5|\n",
      "|       1| 2020-01-23 16:02:32|  2020-01-23 16:14:19|              1|          1.4|         1|                 N|         233|         234|           1|        9.0|  3.5|    0.5|       1.0|         0.0|                  0.3|        14.3|                 2.5|\n",
      "|       2| 2020-01-23 11:02:58|  2020-01-23 11:14:36|              1|         1.35|         1|                 N|         141|         236|           1|        9.0|  0.0|    0.5|      3.08|         0.0|                  0.3|       15.38|                 2.5|\n",
      "|       1| 2020-01-15 11:01:47|  2020-01-15 11:11:26|              1|          1.5|         1|                 N|         236|         161|           1|        8.5|  2.5|    0.5|      0.59|         0.0|                  0.3|       12.39|                 2.5|\n",
      "|       1| 2020-01-09 15:48:25|  2020-01-09 15:56:19|              1|          1.4|         1|                 N|         162|         107|           2|        7.0|  3.5|    0.5|       0.0|         0.0|                  0.3|        11.3|                 2.5|\n",
      "|       1| 2020-01-15 20:48:14|  2020-01-15 20:54:14|              1|          1.1|         1|                 N|         113|          90|           1|        6.0|  3.0|    0.5|       1.0|         0.0|                  0.3|        10.8|                 2.5|\n",
      "|       2| 2020-01-15 22:54:09|  2020-01-15 23:00:38|              4|         1.22|         1|                 N|          68|         230|           1|        6.5|  0.5|    0.5|      1.03|         0.0|                  0.3|       11.33|                 2.5|\n",
      "+--------+--------------------+---------------------+---------------+-------------+----------+------------------+------------+------------+------------+-----------+-----+-------+----------+------------+---------------------+------------+--------------------+\n",
      "only showing top 20 rows\n",
      "\n"
     ]
    },
    {
     "name": "stderr",
     "output_type": "stream",
     "text": [
      "\r",
      "                                                                                \r"
     ]
    }
   ],
   "source": [
    "df_yellow.show()"
   ]
  },
  {
   "cell_type": "code",
   "execution_count": null,
   "id": "81971c0c",
   "metadata": {},
   "outputs": [],
   "source": []
  }
 ],
 "metadata": {
  "kernelspec": {
   "display_name": "Python 3 (ipykernel)",
   "language": "python",
   "name": "python3"
  },
  "language_info": {
   "codemirror_mode": {
    "name": "ipython",
    "version": 3
   },
   "file_extension": ".py",
   "mimetype": "text/x-python",
   "name": "python",
   "nbconvert_exporter": "python",
   "pygments_lexer": "ipython3",
   "version": "3.11.3"
  }
 },
 "nbformat": 4,
 "nbformat_minor": 5
}
